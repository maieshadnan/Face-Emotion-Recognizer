{
 "cells": [
  {
   "cell_type": "code",
   "execution_count": 1,
   "id": "5979d496",
   "metadata": {
    "_cell_guid": "b1076dfc-b9ad-4769-8c92-a6c4dae69d19",
    "_uuid": "8f2839f25d086af736a60e9eeb907d3b93b6e0e5",
    "execution": {
     "iopub.execute_input": "2025-02-23T09:26:36.202824Z",
     "iopub.status.busy": "2025-02-23T09:26:36.202495Z",
     "iopub.status.idle": "2025-02-23T09:26:56.023606Z",
     "shell.execute_reply": "2025-02-23T09:26:56.022660Z"
    },
    "papermill": {
     "duration": 19.826377,
     "end_time": "2025-02-23T09:26:56.025205",
     "exception": false,
     "start_time": "2025-02-23T09:26:36.198828",
     "status": "completed"
    },
    "tags": []
   },
   "outputs": [],
   "source": [
    "import numpy as np\n",
    "import tensorflow as tf\n",
    "import matplotlib.pyplot as plt\n",
    "import seaborn as sns\n",
    "import cv2"
   ]
  },
  {
   "cell_type": "markdown",
   "id": "40c38a7a",
   "metadata": {
    "papermill": {
     "duration": 0.002481,
     "end_time": "2025-02-23T09:26:56.037551",
     "exception": false,
     "start_time": "2025-02-23T09:26:56.035070",
     "status": "completed"
    },
    "tags": []
   },
   "source": [
    "# Data Preprocessing"
   ]
  },
  {
   "cell_type": "code",
   "execution_count": 2,
   "id": "1a2e2114",
   "metadata": {
    "execution": {
     "iopub.execute_input": "2025-02-23T09:26:56.043306Z",
     "iopub.status.busy": "2025-02-23T09:26:56.042782Z",
     "iopub.status.idle": "2025-02-23T09:26:56.046300Z",
     "shell.execute_reply": "2025-02-23T09:26:56.045446Z"
    },
    "papermill": {
     "duration": 0.007938,
     "end_time": "2025-02-23T09:26:56.047753",
     "exception": false,
     "start_time": "2025-02-23T09:26:56.039815",
     "status": "completed"
    },
    "tags": []
   },
   "outputs": [],
   "source": [
    "dataset_path = \"/kaggle/input/fer2013/\""
   ]
  },
  {
   "cell_type": "code",
   "execution_count": 3,
   "id": "2ab00584",
   "metadata": {
    "execution": {
     "iopub.execute_input": "2025-02-23T09:26:56.052870Z",
     "iopub.status.busy": "2025-02-23T09:26:56.052629Z",
     "iopub.status.idle": "2025-02-23T09:27:20.419513Z",
     "shell.execute_reply": "2025-02-23T09:27:20.418594Z"
    },
    "papermill": {
     "duration": 24.371117,
     "end_time": "2025-02-23T09:27:20.421203",
     "exception": false,
     "start_time": "2025-02-23T09:26:56.050086",
     "status": "completed"
    },
    "tags": []
   },
   "outputs": [
    {
     "name": "stdout",
     "output_type": "stream",
     "text": [
      "Found 28709 files belonging to 7 classes.\n"
     ]
    }
   ],
   "source": [
    "ds_train = tf.keras.preprocessing.image_dataset_from_directory(\n",
    "    dataset_path + \"train\",\n",
    "    image_size=(48, 48),\n",
    "    batch_size=32,\n",
    "    color_mode=\"grayscale\",\n",
    "    shuffle=True\n",
    ")"
   ]
  },
  {
   "cell_type": "code",
   "execution_count": 4,
   "id": "88f2f5d8",
   "metadata": {
    "execution": {
     "iopub.execute_input": "2025-02-23T09:27:20.427036Z",
     "iopub.status.busy": "2025-02-23T09:27:20.426803Z",
     "iopub.status.idle": "2025-02-23T09:27:25.244886Z",
     "shell.execute_reply": "2025-02-23T09:27:25.244236Z"
    },
    "papermill": {
     "duration": 4.822298,
     "end_time": "2025-02-23T09:27:25.246211",
     "exception": false,
     "start_time": "2025-02-23T09:27:20.423913",
     "status": "completed"
    },
    "tags": []
   },
   "outputs": [
    {
     "name": "stdout",
     "output_type": "stream",
     "text": [
      "Found 7178 files belonging to 7 classes.\n"
     ]
    }
   ],
   "source": [
    "ds_valid = tf.keras.preprocessing.image_dataset_from_directory(\n",
    "    dataset_path + \"test\",\n",
    "    image_size=(48, 48),\n",
    "    batch_size=32,\n",
    "    color_mode=\"grayscale\",\n",
    "    shuffle=False\n",
    ")"
   ]
  },
  {
   "cell_type": "markdown",
   "id": "b6c60c42",
   "metadata": {
    "papermill": {
     "duration": 0.002109,
     "end_time": "2025-02-23T09:27:25.250880",
     "exception": false,
     "start_time": "2025-02-23T09:27:25.248771",
     "status": "completed"
    },
    "tags": []
   },
   "source": [
    "# Training a classifier"
   ]
  },
  {
   "cell_type": "code",
   "execution_count": 5,
   "id": "d31fb893",
   "metadata": {
    "execution": {
     "iopub.execute_input": "2025-02-23T09:27:25.256077Z",
     "iopub.status.busy": "2025-02-23T09:27:25.255855Z",
     "iopub.status.idle": "2025-02-23T09:27:25.299936Z",
     "shell.execute_reply": "2025-02-23T09:27:25.299298Z"
    },
    "papermill": {
     "duration": 0.048118,
     "end_time": "2025-02-23T09:27:25.301128",
     "exception": false,
     "start_time": "2025-02-23T09:27:25.253010",
     "status": "completed"
    },
    "tags": []
   },
   "outputs": [],
   "source": [
    "model = tf.keras.Sequential([\n",
    "    # Block 1\n",
    "    tf.keras.layers.Conv2D(64, (3,3), activation='relu', padding='same'),\n",
    "    tf.keras.layers.BatchNormalization(),\n",
    "    tf.keras.layers.Conv2D(64, (3,3), activation='relu', padding='same'),\n",
    "    tf.keras.layers.BatchNormalization(),\n",
    "    tf.keras.layers.MaxPooling2D(pool_size=(2,2)),\n",
    "    tf.keras.layers.Dropout(0.25),\n",
    "\n",
    "    # Block 2\n",
    "    tf.keras.layers.Conv2D(128, (3,3), activation='relu', padding='same'),\n",
    "    tf.keras.layers.BatchNormalization(),\n",
    "    tf.keras.layers.Conv2D(128, (3,3), activation='relu', padding='same'),\n",
    "    tf.keras.layers.BatchNormalization(),\n",
    "    tf.keras.layers.MaxPooling2D(pool_size=(2,2)),\n",
    "    tf.keras.layers.Dropout(0.25),\n",
    "\n",
    "    # Block 3\n",
    "    tf.keras.layers.Conv2D(256, (3,3), activation='relu', padding='same'),\n",
    "    tf.keras.layers.BatchNormalization(),\n",
    "    tf.keras.layers.Conv2D(256, (3,3), activation='relu', padding='same'),\n",
    "    tf.keras.layers.BatchNormalization(),\n",
    "    tf.keras.layers.MaxPooling2D(pool_size=(2,2)),\n",
    "    tf.keras.layers.Dropout(0.25),\n",
    "\n",
    "    # Block 4\n",
    "    tf.keras.layers.Conv2D(512, (3,3), activation='relu', padding='same'),\n",
    "    tf.keras.layers.BatchNormalization(),\n",
    "    tf.keras.layers.Conv2D(512, (3,3), activation='relu', padding='same'),\n",
    "    tf.keras.layers.BatchNormalization(),\n",
    "    tf.keras.layers.MaxPooling2D(pool_size=(2,2)),\n",
    "    tf.keras.layers.Dropout(0.25),\n",
    "\n",
    "    # Fully Connected Layers (Head part)\n",
    "    tf.keras.layers.Flatten(),\n",
    "    tf.keras.layers.Dense(512, activation='relu'),\n",
    "    tf.keras.layers.BatchNormalization(),\n",
    "    tf.keras.layers.Dropout(0.5),\n",
    "    tf.keras.layers.Dense(256, activation='relu'),\n",
    "    tf.keras.layers.BatchNormalization(),\n",
    "    tf.keras.layers.Dropout(0.5),\n",
    "    \n",
    "    # Output Layer\n",
    "    tf.keras.layers.Dense(7, activation='softmax')  # FER-2013 has 7 emotion classes\n",
    "])"
   ]
  },
  {
   "cell_type": "code",
   "execution_count": 6,
   "id": "d1d48df6",
   "metadata": {
    "execution": {
     "iopub.execute_input": "2025-02-23T09:27:25.306760Z",
     "iopub.status.busy": "2025-02-23T09:27:25.306539Z",
     "iopub.status.idle": "2025-02-23T09:27:25.323094Z",
     "shell.execute_reply": "2025-02-23T09:27:25.322519Z"
    },
    "papermill": {
     "duration": 0.020595,
     "end_time": "2025-02-23T09:27:25.324311",
     "exception": false,
     "start_time": "2025-02-23T09:27:25.303716",
     "status": "completed"
    },
    "tags": []
   },
   "outputs": [],
   "source": [
    "model.compile(loss=\"sparse_categorical_crossentropy\", optimizer=\"adam\", metrics=[\"accuracy\"])"
   ]
  },
  {
   "cell_type": "code",
   "execution_count": 7,
   "id": "ee786658",
   "metadata": {
    "execution": {
     "iopub.execute_input": "2025-02-23T09:27:25.329662Z",
     "iopub.status.busy": "2025-02-23T09:27:25.329442Z",
     "iopub.status.idle": "2025-02-23T09:41:53.107459Z",
     "shell.execute_reply": "2025-02-23T09:41:53.106470Z"
    },
    "papermill": {
     "duration": 867.782212,
     "end_time": "2025-02-23T09:41:53.108929",
     "exception": false,
     "start_time": "2025-02-23T09:27:25.326717",
     "status": "completed"
    },
    "tags": []
   },
   "outputs": [
    {
     "name": "stdout",
     "output_type": "stream",
     "text": [
      "Epoch 1/500\n",
      "\u001b[1m898/898\u001b[0m \u001b[32m━━━━━━━━━━━━━━━━━━━━\u001b[0m\u001b[37m\u001b[0m \u001b[1m70s\u001b[0m 58ms/step - accuracy: 0.2053 - loss: 2.3593 - val_accuracy: 0.3587 - val_loss: 1.6146\n",
      "Epoch 2/500\n",
      "\u001b[1m898/898\u001b[0m \u001b[32m━━━━━━━━━━━━━━━━━━━━\u001b[0m\u001b[37m\u001b[0m \u001b[1m27s\u001b[0m 30ms/step - accuracy: 0.3791 - loss: 1.6155 - val_accuracy: 0.4299 - val_loss: 1.5126\n",
      "Epoch 3/500\n",
      "\u001b[1m898/898\u001b[0m \u001b[32m━━━━━━━━━━━━━━━━━━━━\u001b[0m\u001b[37m\u001b[0m \u001b[1m27s\u001b[0m 30ms/step - accuracy: 0.4923 - loss: 1.3292 - val_accuracy: 0.5242 - val_loss: 1.2274\n",
      "Epoch 4/500\n",
      "\u001b[1m898/898\u001b[0m \u001b[32m━━━━━━━━━━━━━━━━━━━━\u001b[0m\u001b[37m\u001b[0m \u001b[1m27s\u001b[0m 31ms/step - accuracy: 0.5303 - loss: 1.2374 - val_accuracy: 0.5316 - val_loss: 1.2166\n",
      "Epoch 5/500\n",
      "\u001b[1m898/898\u001b[0m \u001b[32m━━━━━━━━━━━━━━━━━━━━\u001b[0m\u001b[37m\u001b[0m \u001b[1m28s\u001b[0m 31ms/step - accuracy: 0.5574 - loss: 1.1765 - val_accuracy: 0.5469 - val_loss: 1.2141\n",
      "Epoch 6/500\n",
      "\u001b[1m898/898\u001b[0m \u001b[32m━━━━━━━━━━━━━━━━━━━━\u001b[0m\u001b[37m\u001b[0m \u001b[1m28s\u001b[0m 31ms/step - accuracy: 0.5726 - loss: 1.1440 - val_accuracy: 0.5426 - val_loss: 1.1990\n",
      "Epoch 7/500\n",
      "\u001b[1m898/898\u001b[0m \u001b[32m━━━━━━━━━━━━━━━━━━━━\u001b[0m\u001b[37m\u001b[0m \u001b[1m28s\u001b[0m 31ms/step - accuracy: 0.5980 - loss: 1.0748 - val_accuracy: 0.5878 - val_loss: 1.1115\n",
      "Epoch 8/500\n",
      "\u001b[1m898/898\u001b[0m \u001b[32m━━━━━━━━━━━━━━━━━━━━\u001b[0m\u001b[37m\u001b[0m \u001b[1m28s\u001b[0m 31ms/step - accuracy: 0.6231 - loss: 1.0100 - val_accuracy: 0.5938 - val_loss: 1.1004\n",
      "Epoch 9/500\n",
      "\u001b[1m898/898\u001b[0m \u001b[32m━━━━━━━━━━━━━━━━━━━━\u001b[0m\u001b[37m\u001b[0m \u001b[1m28s\u001b[0m 32ms/step - accuracy: 0.6542 - loss: 0.9384 - val_accuracy: 0.6034 - val_loss: 1.1233\n",
      "Epoch 10/500\n",
      "\u001b[1m898/898\u001b[0m \u001b[32m━━━━━━━━━━━━━━━━━━━━\u001b[0m\u001b[37m\u001b[0m \u001b[1m28s\u001b[0m 31ms/step - accuracy: 0.6816 - loss: 0.8762 - val_accuracy: 0.5772 - val_loss: 1.2353\n",
      "Epoch 11/500\n",
      "\u001b[1m898/898\u001b[0m \u001b[32m━━━━━━━━━━━━━━━━━━━━\u001b[0m\u001b[37m\u001b[0m \u001b[1m28s\u001b[0m 31ms/step - accuracy: 0.7104 - loss: 0.7937 - val_accuracy: 0.6174 - val_loss: 1.1152\n",
      "Epoch 12/500\n",
      "\u001b[1m898/898\u001b[0m \u001b[32m━━━━━━━━━━━━━━━━━━━━\u001b[0m\u001b[37m\u001b[0m \u001b[1m30s\u001b[0m 33ms/step - accuracy: 0.7446 - loss: 0.7129 - val_accuracy: 0.6220 - val_loss: 1.1621\n",
      "Epoch 13/500\n",
      "\u001b[1m898/898\u001b[0m \u001b[32m━━━━━━━━━━━━━━━━━━━━\u001b[0m\u001b[37m\u001b[0m \u001b[1m31s\u001b[0m 34ms/step - accuracy: 0.7777 - loss: 0.6313 - val_accuracy: 0.6317 - val_loss: 1.2074\n",
      "Epoch 14/500\n",
      "\u001b[1m898/898\u001b[0m \u001b[32m━━━━━━━━━━━━━━━━━━━━\u001b[0m\u001b[37m\u001b[0m \u001b[1m31s\u001b[0m 34ms/step - accuracy: 0.7924 - loss: 0.5781 - val_accuracy: 0.6225 - val_loss: 1.2913\n",
      "Epoch 15/500\n",
      "\u001b[1m898/898\u001b[0m \u001b[32m━━━━━━━━━━━━━━━━━━━━\u001b[0m\u001b[37m\u001b[0m \u001b[1m30s\u001b[0m 34ms/step - accuracy: 0.8249 - loss: 0.4901 - val_accuracy: 0.6330 - val_loss: 1.3260\n",
      "Epoch 16/500\n",
      "\u001b[1m898/898\u001b[0m \u001b[32m━━━━━━━━━━━━━━━━━━━━\u001b[0m\u001b[37m\u001b[0m \u001b[1m30s\u001b[0m 34ms/step - accuracy: 0.8389 - loss: 0.4582 - val_accuracy: 0.6420 - val_loss: 1.3862\n",
      "Epoch 17/500\n",
      "\u001b[1m898/898\u001b[0m \u001b[32m━━━━━━━━━━━━━━━━━━━━\u001b[0m\u001b[37m\u001b[0m \u001b[1m31s\u001b[0m 34ms/step - accuracy: 0.8629 - loss: 0.3930 - val_accuracy: 0.6399 - val_loss: 1.4267\n",
      "Epoch 18/500\n",
      "\u001b[1m898/898\u001b[0m \u001b[32m━━━━━━━━━━━━━━━━━━━━\u001b[0m\u001b[37m\u001b[0m \u001b[1m31s\u001b[0m 34ms/step - accuracy: 0.8819 - loss: 0.3426 - val_accuracy: 0.6346 - val_loss: 1.5765\n",
      "Epoch 19/500\n",
      "\u001b[1m898/898\u001b[0m \u001b[32m━━━━━━━━━━━━━━━━━━━━\u001b[0m\u001b[37m\u001b[0m \u001b[1m31s\u001b[0m 34ms/step - accuracy: 0.8868 - loss: 0.3314 - val_accuracy: 0.6330 - val_loss: 1.6160\n",
      "Epoch 20/500\n",
      "\u001b[1m898/898\u001b[0m \u001b[32m━━━━━━━━━━━━━━━━━━━━\u001b[0m\u001b[37m\u001b[0m \u001b[1m31s\u001b[0m 35ms/step - accuracy: 0.9016 - loss: 0.2844 - val_accuracy: 0.6415 - val_loss: 1.6452\n",
      "Epoch 21/500\n",
      "\u001b[1m898/898\u001b[0m \u001b[32m━━━━━━━━━━━━━━━━━━━━\u001b[0m\u001b[37m\u001b[0m \u001b[1m31s\u001b[0m 34ms/step - accuracy: 0.9034 - loss: 0.2745 - val_accuracy: 0.6486 - val_loss: 1.5755\n",
      "Epoch 22/500\n",
      "\u001b[1m898/898\u001b[0m \u001b[32m━━━━━━━━━━━━━━━━━━━━\u001b[0m\u001b[37m\u001b[0m \u001b[1m31s\u001b[0m 35ms/step - accuracy: 0.9017 - loss: 0.2894 - val_accuracy: 0.6397 - val_loss: 1.6227\n",
      "Epoch 23/500\n",
      "\u001b[1m898/898\u001b[0m \u001b[32m━━━━━━━━━━━━━━━━━━━━\u001b[0m\u001b[37m\u001b[0m \u001b[1m30s\u001b[0m 34ms/step - accuracy: 0.9045 - loss: 0.2752 - val_accuracy: 0.6406 - val_loss: 1.7053\n",
      "Epoch 24/500\n",
      "\u001b[1m898/898\u001b[0m \u001b[32m━━━━━━━━━━━━━━━━━━━━\u001b[0m\u001b[37m\u001b[0m \u001b[1m30s\u001b[0m 34ms/step - accuracy: 0.9223 - loss: 0.2281 - val_accuracy: 0.6473 - val_loss: 1.6621\n",
      "Epoch 25/500\n",
      "\u001b[1m898/898\u001b[0m \u001b[32m━━━━━━━━━━━━━━━━━━━━\u001b[0m\u001b[37m\u001b[0m \u001b[1m31s\u001b[0m 34ms/step - accuracy: 0.9270 - loss: 0.2147 - val_accuracy: 0.6396 - val_loss: 1.6497\n",
      "Epoch 26/500\n",
      "\u001b[1m898/898\u001b[0m \u001b[32m━━━━━━━━━━━━━━━━━━━━\u001b[0m\u001b[37m\u001b[0m \u001b[1m31s\u001b[0m 34ms/step - accuracy: 0.9297 - loss: 0.2000 - val_accuracy: 0.6390 - val_loss: 1.6631\n",
      "Epoch 27/500\n",
      "\u001b[1m898/898\u001b[0m \u001b[32m━━━━━━━━━━━━━━━━━━━━\u001b[0m\u001b[37m\u001b[0m \u001b[1m30s\u001b[0m 34ms/step - accuracy: 0.9312 - loss: 0.2011 - val_accuracy: 0.6407 - val_loss: 1.7236\n",
      "Epoch 28/500\n",
      "\u001b[1m898/898\u001b[0m \u001b[32m━━━━━━━━━━━━━━━━━━━━\u001b[0m\u001b[37m\u001b[0m \u001b[1m32s\u001b[0m 36ms/step - accuracy: 0.9397 - loss: 0.1737 - val_accuracy: 0.6545 - val_loss: 1.7396\n"
     ]
    },
    {
     "data": {
      "text/plain": [
       "<keras.src.callbacks.history.History at 0x7e9340e50100>"
      ]
     },
     "execution_count": 7,
     "metadata": {},
     "output_type": "execute_result"
    }
   ],
   "source": [
    "model.fit(ds_train, validation_data=ds_valid, epochs=500, callbacks=[tf.keras.callbacks.EarlyStopping(min_delta=0.001, monitor=\"val_loss\", restore_best_weights=True, patience=20)], verbose=1)"
   ]
  },
  {
   "cell_type": "code",
   "execution_count": 8,
   "id": "321f1588",
   "metadata": {
    "execution": {
     "iopub.execute_input": "2025-02-23T09:41:54.380836Z",
     "iopub.status.busy": "2025-02-23T09:41:54.380494Z",
     "iopub.status.idle": "2025-02-23T09:41:54.820782Z",
     "shell.execute_reply": "2025-02-23T09:41:54.819770Z"
    },
    "papermill": {
     "duration": 1.047565,
     "end_time": "2025-02-23T09:41:54.822636",
     "exception": false,
     "start_time": "2025-02-23T09:41:53.775071",
     "status": "completed"
    },
    "tags": []
   },
   "outputs": [],
   "source": [
    "model.save(\"face_emotion_classifier.keras\")"
   ]
  }
 ],
 "metadata": {
  "kaggle": {
   "accelerator": "nvidiaTeslaT4",
   "dataSources": [
    {
     "datasetId": 786787,
     "sourceId": 1351797,
     "sourceType": "datasetVersion"
    }
   ],
   "dockerImageVersionId": 30919,
   "isGpuEnabled": true,
   "isInternetEnabled": true,
   "language": "python",
   "sourceType": "notebook"
  },
  "kernelspec": {
   "display_name": "Python 3",
   "language": "python",
   "name": "python3"
  },
  "language_info": {
   "codemirror_mode": {
    "name": "ipython",
    "version": 3
   },
   "file_extension": ".py",
   "mimetype": "text/x-python",
   "name": "python",
   "nbconvert_exporter": "python",
   "pygments_lexer": "ipython3",
   "version": "3.10.12"
  },
  "papermill": {
   "default_parameters": {},
   "duration": 925.74168,
   "end_time": "2025-02-23T09:41:58.376590",
   "environment_variables": {},
   "exception": null,
   "input_path": "__notebook__.ipynb",
   "output_path": "__notebook__.ipynb",
   "parameters": {},
   "start_time": "2025-02-23T09:26:32.634910",
   "version": "2.6.0"
  }
 },
 "nbformat": 4,
 "nbformat_minor": 5
}
